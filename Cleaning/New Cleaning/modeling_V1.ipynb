{
 "cells": [
  {
   "cell_type": "code",
   "execution_count": null,
   "metadata": {},
   "outputs": [],
   "source": [
    "import pandas as pd \n",
    "import numpy as np\n",
    "\n",
    "inputPing_Start = 64209\n",
    "\n",
    "amountTested = 50\n",
    "\n",
    "inputPing_End = inputPing_Start + amountTested\n",
    "\n",
    "testInput_Start = inputPing_End\n",
    "testInput_End = testInput_Start + amountTested\n",
    "\n",
    "\n",
    "\n",
    "\n",
    "df_stave = pd.read_parquet('real_numbers_STAVE.parquet')\n",
    "\n",
    "df_binned = pd.read_csv('3000.csv')\n",
    "\n",
    "df_input = df_stave[df_stave['pingNum'] < inputPing_End]\n",
    "df_input = df_input[df_input['pingNum'] >= inputPing_Start]\n",
    "df_input = df_input[df_input['channel']%2 == 0]\n",
    "df_input = df_input[['sample']]\n",
    "df_input = df_input.reset_index()\n",
    "df_input = df_input.drop(['index'], axis=1)\n",
    "\n",
    "\n",
    "\n",
    "df_output = df_binned[df_binned['PingKey'] < inputPing_End]\n",
    "df_output = df_output[df_output['PingKey'] >= inputPing_Start]\n",
    "df_output = df_output[df_output['Channel'] == 0]\n",
    "df_output = df_output.reset_index()\n",
    "df_output = df_output.drop(['index'], axis=1)\n",
    "df_output = df_output[['Angle', 'TWTT']]\n",
    "df_output_angle = df_output[['Angle']]\n",
    "df_output_twtt = df_output[['TWTT']]\n",
    "\n",
    "\n",
    "\n",
    "df_input_test = df_stave[df_stave['pingNum'] < testInput_End]\n",
    "df_input_test = df_input_test[df_input_test['pingNum'] >= testInput_Start]\n",
    "df_input_test = df_input_test[df_input_test['channel']%2 == 0]\n",
    "df_input_test = df_input_test[['sample']]\n",
    "df_input_test = df_input_test.reset_index()\n",
    "df_input_test = df_input_test.drop(['index'], axis=1)\n",
    "\n",
    "\n",
    "\n",
    "df_output_test = df_binned[df_binned['PingKey'] < testInput_End]\n",
    "df_output_test = df_output_test[df_output_test['PingKey'] >= testInput_Start]\n",
    "df_output_test = df_output_test[df_output_test['Channel'] == 0]\n",
    "df_output_test = df_output_test.reset_index()\n",
    "df_output_test = df_output_test.drop(['index'], axis=1)\n",
    "df_output_test = df_output_test[['Angle', 'TWTT']]\n",
    "df_output_test_angle = df_output_test[['Angle']]\n",
    "df_output_test_twtt = df_output_test[['TWTT']]\n",
    "\n"
   ]
  },
  {
   "cell_type": "code",
   "execution_count": null,
   "metadata": {},
   "outputs": [],
   "source": [
    "inputSize = df_input.shape[0]\n",
    "print(inputSize)\n",
    "\n",
    "outputSize = df_output.shape[0]\n",
    "print(outputSize)\n",
    "\n",
    "df_input = np.asarray(df_input)\n",
    "df_input = df_input.reshape(1,inputSize )\n",
    "print(df_input.shape)\n",
    "\n",
    "\n",
    "df_output_angle = np.asarray(df_output_angle)\n",
    "df_output_twtt = np.asarray(df_output_test_twtt)\n",
    "df_out_angle = df_output_angle.reshape(1,outputSize)\n",
    "df_out_twtt = df_output_twtt.reshape(1,outputSize)\n",
    "\n",
    "\n",
    "output_test_angle = np.asarray(df_output_test_angle)\n",
    "output_test_twtt = np.asarray(df_output_test_twtt)\n",
    "# df_output_test_twtt = np.asarray(df_output_test_twtt)\n",
    "# df_output_test_angle = np.asarray(df_output_test_angle)\n",
    "# df_out_test_angle = df_output_test_angle.reshape(1,4000)\n",
    "# df_out_test_twtt = df_output_test_twtt.reshape(1,4000)\n",
    "\n",
    "df_input_test = np.asarray(df_input_test)\n",
    "df_input_test = df_input_test.reshape(1,inputSize  )\n",
    "print(df_input_test.shape)\n",
    "\n",
    "\n",
    "\n"
   ]
  },
  {
   "cell_type": "code",
   "execution_count": null,
   "metadata": {},
   "outputs": [],
   "source": [
    "import tensorflow as tf\n",
    "from keras.models import Model\n",
    "from keras.layers import Input, Dense\n"
   ]
  },
  {
   "cell_type": "code",
   "execution_count": null,
   "metadata": {},
   "outputs": [],
   "source": [
    "inputs = Input(shape=(inputSize,))\n",
    "# hidden_Angle0 =  Dense(1, kernel_initializer='lecun_normal', activation='selu')(inputs)\n",
    "# hidden_Angle1 = Dense(512, kernel_initializer='lecun_normal', activation='selu')(hidden_Angle0)\n",
    "hidden_Angle2 = Dense(256, kernel_initializer='lecun_normal', activation='selu')(inputs)\n",
    "hidden_Angle3 = Dense(128, kernel_initializer='lecun_normal', activation='selu')(hidden_Angle2)\n",
    "hidden_Angle4 = Dense(64, kernel_initializer='lecun_normal', activation='selu')(hidden_Angle3)\n",
    "output_Angle = Dense(outputSize, activation='linear', name = 'Angles')(hidden_Angle4)\n",
    "\n",
    "hidden_twtt1 = Dense(400, activation = 'softmax')(inputs)\n",
    "hidden_twtt2 = Dense(300, activation = 'softmax')(hidden_twtt1)\n",
    "hidden_twtt3 = Dense(200, activation = 'softmax')(hidden_twtt2)\n",
    "# I lowered the number of neurons for the TWTT and it does well\n",
    "output_twtt = Dense(outputSize, activation='linear', name = 'TWTT')(hidden_twtt3)\n",
    "# hidden_twtt1 = \n",
    "\n",
    "model = Model(inputs=inputs, outputs=[output_Angle, output_twtt])\n",
    "\n"
   ]
  },
  {
   "cell_type": "code",
   "execution_count": null,
   "metadata": {},
   "outputs": [],
   "source": [
    "\n",
    "model.compile(optimizer='adamax', loss='mse', metrics=['mean_squared_error', 'accuracy'])\n",
    "\n",
    "model.fit(df_input, [df_out_angle,df_out_twtt], epochs=400, batch_size=40, validation_data=(df_input_test, [output_test_angle,output_test_twtt]))"
   ]
  },
  {
   "cell_type": "code",
   "execution_count": null,
   "metadata": {},
   "outputs": [],
   "source": [
    "prediction_angle, prediction_twtt = model.predict(df_input_test)\n",
    "prediction_angle = prediction_angle.reshape(outputSize)\n",
    "prediction_twtt = prediction_twtt.reshape(outputSize)\n",
    "\n",
    "\n",
    "df = pd.DataFrame({'Angle': prediction_angle, 'TWTT': prediction_twtt})\n",
    "\n",
    "df \n",
    "\n",
    "# df_out_test = pd.DataFrame({'Angle_raw': df_output_test_angle, 'TWTT_raw': df_output_test_twtt})\n"
   ]
  },
  {
   "cell_type": "code",
   "execution_count": null,
   "metadata": {},
   "outputs": [],
   "source": [
    "# df_out_test_angle = df_out_test_angle.reshape(1,4000)\n",
    "# df_out_test_twtt = df_out_test_twtt.reshape(1,4000)\n",
    "\n",
    "df_output_test_angle = df_output_test[['Angle']]\n",
    "df_output_test_twtt = df_output_test[['TWTT']]\n",
    "\n",
    "df['Angle_Raw'] = df_output_test_angle\n",
    "df['TWTT_Raw'] = df_output_test_twtt\n",
    "\n",
    "\n",
    "\n",
    "df"
   ]
  },
  {
   "cell_type": "code",
   "execution_count": null,
   "metadata": {},
   "outputs": [],
   "source": [
    "df_twtt = df[['TWTT', 'TWTT_Raw']]\n",
    "df_angle = df[['Angle','Angle_Raw']]\n",
    "df['diff'] = (df['TWTT_Raw'] - df['TWTT'])\n",
    "df['diff'] = df['diff'].abs()\n",
    "df['diff'] = df['diff']/df['TWTT_Raw']\n",
    "df['diff'] = df['diff']*100\n",
    "avg = df['diff'].mean()\n",
    "print(100 - avg.round(2))\n",
    "twtt_image = df_twtt.plot.line()\n",
    "print(twtt_image)\n",
    "# df_twtt"
   ]
  },
  {
   "cell_type": "code",
   "execution_count": null,
   "metadata": {},
   "outputs": [],
   "source": [
    "import matplotlib.pyplot as plt \n",
    "\n",
    "df_angle['diff'] = (df_angle['Angle_Raw'] - df_angle['Angle'])\n",
    "df_angle['diff'] = df_angle['diff'].abs()\n",
    "df_angle['diff'] = df_angle['diff']/df_angle['Angle_Raw']\n",
    "df_angle['diff'] = df_angle['diff']*100\n",
    "avg = df_angle['diff'].mean()\n",
    "print(100 - avg.round(2))\n",
    "df_angle['index'] = df_angle.index\n",
    "plt.scatter(df_angle['index'], df_angle['Angle_Raw'], color = 'black', s=.5)\n",
    "plt.scatter(df_angle['index'], df_angle['Angle'], color = 'red', s=.5)\n",
    "plt.legend(loc='upper left')\n",
    "\n",
    "# angle_image = df_angle.plot.line()\n",
    "\n",
    "\n",
    "\n",
    "\n"
   ]
  }
 ],
 "metadata": {
  "kernelspec": {
   "display_name": "env",
   "language": "python",
   "name": "python3"
  },
  "language_info": {
   "codemirror_mode": {
    "name": "ipython",
    "version": 3
   },
   "file_extension": ".py",
   "mimetype": "text/x-python",
   "name": "python",
   "nbconvert_exporter": "python",
   "pygments_lexer": "ipython3",
   "version": "3.11.2"
  },
  "orig_nbformat": 4,
  "vscode": {
   "interpreter": {
    "hash": "0fe189544a484d4629458363b50ddcf47e74cbdaf615d94fd7f5f51659dcea74"
   }
  }
 },
 "nbformat": 4,
 "nbformat_minor": 2
}
